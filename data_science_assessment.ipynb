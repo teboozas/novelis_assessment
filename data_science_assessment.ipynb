{
 "cells": [
  {
   "cell_type": "markdown",
   "id": "96ce942b-4253-4d4a-9978-58fbcc460811",
   "metadata": {},
   "source": [
    "# Data Science Assessment - Fraud Data (Hyunjun Lee)"
   ]
  },
  {
   "cell_type": "markdown",
   "id": "f9f7d9cb-1d26-4f7a-a194-89e525261276",
   "metadata": {},
   "source": [
    "## 0. Prerequisites\n",
    "\n",
    "- import required dependencies to analyze and fit machine-learning classifiers"
   ]
  },
  {
   "cell_type": "code",
   "execution_count": 1,
   "id": "8f9a8284-fa26-4238-915b-f29b6639abe0",
   "metadata": {},
   "outputs": [],
   "source": [
    "import pickle\n",
    "import numpy as np\n",
    "import pandas as pd\n",
    "import matplotlib.pyplot as plt\n",
    "import seaborn as sns\n",
    "import shap\n",
    "from scipy.stats import mannwhitneyu, chi2_contingency\n",
    "\n",
    "from sklearn.preprocessing import StandardScaler, OrdinalEncoder\n",
    "from sklearn.compose import ColumnTransformer\n",
    "from sklearn.pipeline import Pipeline\n",
    "from sklearn.model_selection import GridSearchCV, StratifiedKFold, train_test_split\n",
    "from sklearn.ensemble import RandomForestClassifier, HistGradientBoostingClassifier\n",
    "from sklearn.svm import SVC\n",
    "from sklearn.utils import class_weight\n",
    "from sklearn.metrics import confusion_matrix\n",
    "\n",
    "from imblearn.pipeline import Pipeline as ImbPipeline\n",
    "from imblearn.under_sampling import RandomUnderSampler"
   ]
  },
  {
   "cell_type": "markdown",
   "id": "307e0aa0-b7c9-4f12-a1e7-2905cdd478b7",
   "metadata": {},
   "source": [
    "## 1. Data Engineering"
   ]
  },
  {
   "cell_type": "markdown",
   "id": "9574e327-4ea5-42b6-931a-dfb265c0f856",
   "metadata": {},
   "source": [
    "- load data files via Pandas package into a DataFrame format"
   ]
  },
  {
   "cell_type": "code",
   "execution_count": 2,
   "id": "07149c22-ef25-4a2e-a2ea-bb3f8fc7ff9b",
   "metadata": {},
   "outputs": [],
   "source": [
    "df_train = pd.read_csv('Candidate_tech_evaluation_candidate_copy_data science_fraud.csv')\n",
    "df_test = pd.read_csv('fraud_holdout_no_label.csv')\n",
    "df_ip = pd.read_excel('Candidate_tech_evaluation_candidate_copy_datascience_IpAddress_to_Country.xlsx')"
   ]
  },
  {
   "cell_type": "markdown",
   "id": "34de2d5c-7390-4c27-a14e-39dfdf97ef25",
   "metadata": {},
   "source": [
    "- define function to map country names with respect to the aligned IP address range\n",
    "- apply the function to map country names and store it into 'country' variable\n",
    "- for missing values, fill them with 'ETC' values"
   ]
  },
  {
   "cell_type": "code",
   "execution_count": 4,
   "id": "5fd430d3-2f37-4969-af60-7b1f91bf261c",
   "metadata": {},
   "outputs": [],
   "source": [
    "def ip_to_country_mapping(ip):\n",
    "    \"\"\"Maps IP address to country using the ip_to_country DataFrame.\"\"\"\n",
    "    country = df_ip[(df_ip['lower_bound_ip_address'] <= ip) &\n",
    "                    (df_ip['upper_bound_ip_address'] >= ip)]['country']\n",
    "    if country.shape[0] == 1:\n",
    "        return country.iloc[0]\n",
    "    else:\n",
    "        return None\n",
    "\n",
    "df_train['country'] = df_train['ip_address'].apply(ip_to_country_mapping)\n",
    "df_test['country'] = df_test['ip_address'].apply(ip_to_country_mapping)\n",
    "df_train.loc[df_train['country'].isna(), 'country'] = 'ETC'\n",
    "df_test.loc[df_test['country'].isna(), 'country'] = 'ETC'"
   ]
  },
  {
   "cell_type": "markdown",
   "id": "a1add0d1-659a-490b-91f1-c385ab2a1305",
   "metadata": {},
   "source": [
    "- save and load modified DataFrames to perform EDA"
   ]
  },
  {
   "cell_type": "code",
   "execution_count": 5,
   "id": "4ef58846-3305-4325-933e-fa17d6bff3d5",
   "metadata": {},
   "outputs": [],
   "source": [
    "df_train[list(df_train.columns)[1:]].to_csv('df_train.csv', index=False)\n",
    "df_test[list(df_test.columns)[1:]].to_csv('df_test.csv', index=False)"
   ]
  },
  {
   "cell_type": "code",
   "execution_count": 6,
   "id": "1acbc8ff-ec7f-40ec-b524-84bd5e5846e6",
   "metadata": {},
   "outputs": [],
   "source": [
    "df_train = pd.read_csv('df_train.csv')\n",
    "df_test = pd.read_csv('df_test.csv')"
   ]
  },
  {
   "cell_type": "code",
   "execution_count": 7,
   "id": "daea88b3-7386-49de-ba27-82fd86ba7eed",
   "metadata": {},
   "outputs": [
    {
     "data": {
      "text/html": [
       "<div>\n",
       "<style scoped>\n",
       "    .dataframe tbody tr th:only-of-type {\n",
       "        vertical-align: middle;\n",
       "    }\n",
       "\n",
       "    .dataframe tbody tr th {\n",
       "        vertical-align: top;\n",
       "    }\n",
       "\n",
       "    .dataframe thead th {\n",
       "        text-align: right;\n",
       "    }\n",
       "</style>\n",
       "<table border=\"1\" class=\"dataframe\">\n",
       "  <thead>\n",
       "    <tr style=\"text-align: right;\">\n",
       "      <th></th>\n",
       "      <th>user_id</th>\n",
       "      <th>signup_time</th>\n",
       "      <th>purchase_time</th>\n",
       "      <th>purchase_value</th>\n",
       "      <th>device_id</th>\n",
       "      <th>source</th>\n",
       "      <th>browser</th>\n",
       "      <th>sex</th>\n",
       "      <th>age</th>\n",
       "      <th>ip_address</th>\n",
       "      <th>class</th>\n",
       "      <th>country</th>\n",
       "    </tr>\n",
       "  </thead>\n",
       "  <tbody>\n",
       "    <tr>\n",
       "      <th>0</th>\n",
       "      <td>285108</td>\n",
       "      <td>7/15/2015 4:36</td>\n",
       "      <td>9/10/2015 14:17</td>\n",
       "      <td>31</td>\n",
       "      <td>HZAKVUFTDOSFD</td>\n",
       "      <td>Direct</td>\n",
       "      <td>Chrome</td>\n",
       "      <td>M</td>\n",
       "      <td>49</td>\n",
       "      <td>2.818400e+09</td>\n",
       "      <td>0</td>\n",
       "      <td>United States</td>\n",
       "    </tr>\n",
       "    <tr>\n",
       "      <th>1</th>\n",
       "      <td>131009</td>\n",
       "      <td>1/24/2015 12:29</td>\n",
       "      <td>4/13/2015 4:53</td>\n",
       "      <td>31</td>\n",
       "      <td>XGQAJSOUJIZCC</td>\n",
       "      <td>SEO</td>\n",
       "      <td>IE</td>\n",
       "      <td>F</td>\n",
       "      <td>21</td>\n",
       "      <td>3.251268e+09</td>\n",
       "      <td>0</td>\n",
       "      <td>United Kingdom</td>\n",
       "    </tr>\n",
       "    <tr>\n",
       "      <th>2</th>\n",
       "      <td>328855</td>\n",
       "      <td>3/11/2015 0:54</td>\n",
       "      <td>4/5/2015 12:23</td>\n",
       "      <td>16</td>\n",
       "      <td>VCCTAYDCWKZIY</td>\n",
       "      <td>Direct</td>\n",
       "      <td>IE</td>\n",
       "      <td>M</td>\n",
       "      <td>26</td>\n",
       "      <td>2.727760e+09</td>\n",
       "      <td>0</td>\n",
       "      <td>United States</td>\n",
       "    </tr>\n",
       "  </tbody>\n",
       "</table>\n",
       "</div>"
      ],
      "text/plain": [
       "   user_id      signup_time    purchase_time  purchase_value      device_id  \\\n",
       "0   285108   7/15/2015 4:36  9/10/2015 14:17              31  HZAKVUFTDOSFD   \n",
       "1   131009  1/24/2015 12:29   4/13/2015 4:53              31  XGQAJSOUJIZCC   \n",
       "2   328855   3/11/2015 0:54   4/5/2015 12:23              16  VCCTAYDCWKZIY   \n",
       "\n",
       "   source browser sex  age    ip_address  class         country  \n",
       "0  Direct  Chrome   M   49  2.818400e+09      0   United States  \n",
       "1     SEO      IE   F   21  3.251268e+09      0  United Kingdom  \n",
       "2  Direct      IE   M   26  2.727760e+09      0   United States  "
      ]
     },
     "execution_count": 7,
     "metadata": {},
     "output_type": "execute_result"
    }
   ],
   "source": [
    "df_train.head(3)"
   ]
  },
  {
   "cell_type": "code",
   "execution_count": 8,
   "id": "9323c1e3-e0b8-4bdb-a570-7d85bfd82a4f",
   "metadata": {},
   "outputs": [
    {
     "data": {
      "text/html": [
       "<div>\n",
       "<style scoped>\n",
       "    .dataframe tbody tr th:only-of-type {\n",
       "        vertical-align: middle;\n",
       "    }\n",
       "\n",
       "    .dataframe tbody tr th {\n",
       "        vertical-align: top;\n",
       "    }\n",
       "\n",
       "    .dataframe thead th {\n",
       "        text-align: right;\n",
       "    }\n",
       "</style>\n",
       "<table border=\"1\" class=\"dataframe\">\n",
       "  <thead>\n",
       "    <tr style=\"text-align: right;\">\n",
       "      <th></th>\n",
       "      <th>user_id</th>\n",
       "      <th>signup_time</th>\n",
       "      <th>purchase_time</th>\n",
       "      <th>purchase_value</th>\n",
       "      <th>device_id</th>\n",
       "      <th>source</th>\n",
       "      <th>browser</th>\n",
       "      <th>sex</th>\n",
       "      <th>age</th>\n",
       "      <th>ip_address</th>\n",
       "      <th>country</th>\n",
       "    </tr>\n",
       "  </thead>\n",
       "  <tbody>\n",
       "    <tr>\n",
       "      <th>0</th>\n",
       "      <td>159135</td>\n",
       "      <td>2015-05-21 6:03</td>\n",
       "      <td>2015-07-09 8:05</td>\n",
       "      <td>42</td>\n",
       "      <td>ALEYXFXINSXLZ</td>\n",
       "      <td>Ads</td>\n",
       "      <td>Chrome</td>\n",
       "      <td>M</td>\n",
       "      <td>18</td>\n",
       "      <td>2.809315e+09</td>\n",
       "      <td>Canada</td>\n",
       "    </tr>\n",
       "    <tr>\n",
       "      <th>1</th>\n",
       "      <td>50116</td>\n",
       "      <td>2015-08-01 22:40</td>\n",
       "      <td>2015-08-27 3:37</td>\n",
       "      <td>11</td>\n",
       "      <td>IWKVZHJOCLPUR</td>\n",
       "      <td>Ads</td>\n",
       "      <td>Chrome</td>\n",
       "      <td>F</td>\n",
       "      <td>19</td>\n",
       "      <td>3.987484e+09</td>\n",
       "      <td>ETC</td>\n",
       "    </tr>\n",
       "    <tr>\n",
       "      <th>2</th>\n",
       "      <td>182338</td>\n",
       "      <td>2015-01-25 17:49</td>\n",
       "      <td>2015-03-23 23:05</td>\n",
       "      <td>62</td>\n",
       "      <td>NRFFPPHZYFUVC</td>\n",
       "      <td>Ads</td>\n",
       "      <td>IE</td>\n",
       "      <td>M</td>\n",
       "      <td>31</td>\n",
       "      <td>3.416747e+08</td>\n",
       "      <td>United States</td>\n",
       "    </tr>\n",
       "  </tbody>\n",
       "</table>\n",
       "</div>"
      ],
      "text/plain": [
       "   user_id       signup_time     purchase_time  purchase_value      device_id  \\\n",
       "0   159135   2015-05-21 6:03   2015-07-09 8:05              42  ALEYXFXINSXLZ   \n",
       "1    50116  2015-08-01 22:40   2015-08-27 3:37              11  IWKVZHJOCLPUR   \n",
       "2   182338  2015-01-25 17:49  2015-03-23 23:05              62  NRFFPPHZYFUVC   \n",
       "\n",
       "  source browser sex  age    ip_address        country  \n",
       "0    Ads  Chrome   M   18  2.809315e+09         Canada  \n",
       "1    Ads  Chrome   F   19  3.987484e+09            ETC  \n",
       "2    Ads      IE   M   31  3.416747e+08  United States  "
      ]
     },
     "execution_count": 8,
     "metadata": {},
     "output_type": "execute_result"
    }
   ],
   "source": [
    "df_test.head(3)"
   ]
  },
  {
   "cell_type": "markdown",
   "id": "e231893b-7e9f-456e-abd3-6cd8cbec29ff",
   "metadata": {},
   "source": [
    "## 2. Exploratory Data Analysis (EDA)"
   ]
  },
  {
   "cell_type": "markdown",
   "id": "13796476-c98e-4f2d-aad1-138f23aea67d",
   "metadata": {},
   "source": [
    "- create new variables to explore:\n",
    "    - `latency`: duration to process the first transaction\n",
    "    - `num_transaction_per_device`: the number of transactions for each device IDs"
   ]
  },
  {
   "cell_type": "code",
   "execution_count": 9,
   "id": "0d9796ab-6445-40dd-833f-ee2c5f4b3c3d",
   "metadata": {},
   "outputs": [],
   "source": [
    "df_train['signup_time'] = pd.to_datetime(df_train['signup_time'])\n",
    "df_train['purchase_time'] = pd.to_datetime(df_train['purchase_time'])\n",
    "df_train['latency'] = (df_train['purchase_time'] - df_train['signup_time']).dt.total_seconds() / 3600\n",
    "df_train['num_transaction_per_device'] = df_train.groupby('device_id')['device_id'].transform('count')\n",
    "\n",
    "df_test['signup_time'] = pd.to_datetime(df_test['signup_time'])\n",
    "df_test['purchase_time'] = pd.to_datetime(df_test['purchase_time'])\n",
    "df_test['latency'] = (df_test['purchase_time'] - df_test['signup_time']).dt.total_seconds() / 3600\n",
    "df_test['num_transaction_per_device'] = df_test.groupby('device_id')['device_id'].transform('count')"
   ]
  },
  {
   "cell_type": "markdown",
   "id": "0c28137f-f765-4e36-b2e5-57f6d28405cb",
   "metadata": {},
   "source": [
    "- Examining the numerical features, variables `latency` and `num_transaction_per_device` have strong relationship with `class` variable\n",
    "\n",
    "    - lower `latency` (mostly 0) implies the possibility of fraudulent transactions\n",
    "    - higher `num_transactions_per_device` implies the possibility of fraudulent transactions\n",
    "\n",
    "\n",
    "- arguments above would be supported by the statistical testing under the significance level 0.05 (*Mann-Whitney U test to compare empirical distribution*)"
   ]
  },
  {
   "cell_type": "code",
   "execution_count": 10,
   "id": "1d544b6a-6b06-44b3-93c0-c352f6ab9576",
   "metadata": {},
   "outputs": [
    {
     "name": "stderr",
     "output_type": "stream",
     "text": [
      "\n",
      "\n",
      "Passing `palette` without assigning `hue` is deprecated and will be removed in v0.14.0. Assign the `x` variable to `hue` and set `legend=False` for the same effect.\n",
      "\n",
      "\n",
      "\n",
      "Passing `palette` without assigning `hue` is deprecated and will be removed in v0.14.0. Assign the `x` variable to `hue` and set `legend=False` for the same effect.\n",
      "\n",
      "\n",
      "\n",
      "Passing `palette` without assigning `hue` is deprecated and will be removed in v0.14.0. Assign the `x` variable to `hue` and set `legend=False` for the same effect.\n",
      "\n",
      "\n",
      "\n",
      "Passing `palette` without assigning `hue` is deprecated and will be removed in v0.14.0. Assign the `x` variable to `hue` and set `legend=False` for the same effect.\n",
      "\n"
     ]
    },
    {
     "data": {
      "image/png": "[encoded data removed]",
      "text/plain": [
       "<Figure size 2000x400 with 4 Axes>"
      ]
     },
     "metadata": {},
     "output_type": "display_data"
    }
   ],
   "source": [
    "target_independent_vars = ['purchase_value', 'age', 'latency', 'num_transaction_per_device']\n",
    "fig, axes = plt.subplots(1, 4, figsize=(20, 4))\n",
    "for idx in range(4):\n",
    "    sns.boxplot(x='class', y=target_independent_vars[idx], data=df_train, ax=axes[idx],\n",
    "                palette={'0': 'limegreen', '1': 'darkgreen'})\n",
    "    axes[idx].set_title('{}'.format(target_independent_vars[idx]))\n",
    "plt.tight_layout()\n",
    "plt.show()"
   ]
  },
  {
   "cell_type": "code",
   "execution_count": 11,
   "id": "c5119739-3af1-415f-8a05-b108960aa3cc",
   "metadata": {},
   "outputs": [
    {
     "name": "stdout",
     "output_type": "stream",
     "text": [
      "{'purchase_value': 0.2678986456159931, 'age': 0.02554848184551772, 'latency': 0.0, 'num_transaction_per_device': 0.0}\n"
     ]
    }
   ],
   "source": [
    "p_values = {}\n",
    "for var in target_independent_vars:\n",
    "    g0 = df_train[df_train['class'] == 0][var]\n",
    "    g1 = df_train[df_train['class'] == 1][var]\n",
    "    _, pval = mannwhitneyu(g0, g1, alternative='two-sided')\n",
    "    p_values[var] = pval\n",
    "\n",
    "print(p_values)"
   ]
  },
  {
   "cell_type": "markdown",
   "id": "21940ce5-cd52-43ee-9945-11ff8b3c598b",
   "metadata": {},
   "source": [
    "- Examining the categorical features via statistical testing (*Chi-squared test*), that can be said that there would be differences in mean level of proportions in `class` variable among categories, which have to be verified with machine-learning modeling"
   ]
  },
  {
   "cell_type": "code",
   "execution_count": 12,
   "id": "fac9aee9-0729-4e0b-bc63-e50ba507524d",
   "metadata": {},
   "outputs": [
    {
     "name": "stdout",
     "output_type": "stream",
     "text": [
      "{'source': 1.2766489281183212e-11, 'browser': 5.096579084066713e-08, 'sex': 0.027977635034273925, 'country': 2.2975934051246595e-64}\n"
     ]
    }
   ],
   "source": [
    "target_independent_vars_cat = ['source', 'browser', 'sex', 'country']\n",
    "p_values_cat = {}\n",
    "for var in target_independent_vars_cat:\n",
    "    contingency = pd.crosstab(df_train[var], df_train['class'])\n",
    "    _, pval, _, _ = chi2_contingency(contingency)\n",
    "    p_values_cat[var] = pval\n",
    "\n",
    "print(p_values_cat)"
   ]
  },
  {
   "cell_type": "markdown",
   "id": "24a63476-b227-420e-a428-e806444bceba",
   "metadata": {},
   "source": [
    "## 3. Model Selection Procedure"
   ]
  },
  {
   "cell_type": "markdown",
   "id": "5c5eb3cb-2d54-4570-8178-0c5985384c62",
   "metadata": {},
   "source": [
    "- Candidate classifiers are:\n",
    "    - RandomForest classifier\n",
    "    - Support Vector Machine\n",
    "    - Histogram-based Gradient Boosting"
   ]
  },
  {
   "cell_type": "markdown",
   "id": "80469f2c-3dec-4d58-8136-158c61c6493c",
   "metadata": {},
   "source": [
    "- Feature transformations has been applied:\n",
    "    - for numerical features: standardization\n",
    "    - for categorical features: ordinal encoding"
   ]
  },
  {
   "cell_type": "markdown",
   "id": "72d1f223-4e24-43fa-979b-e5be069dfabe",
   "metadata": {},
   "source": [
    "- for each machine-learning models, hyperparameter search space have been set and performed via 5-fold cross validation"
   ]
  },
  {
   "cell_type": "markdown",
   "id": "74c9fec5-69e9-4b3f-a5d2-cfb712ffd67c",
   "metadata": {},
   "source": [
    "- evaluation metric for cross-validation is ROC-AUC score"
   ]
  },
  {
   "cell_type": "markdown",
   "id": "a364540d-79c9-4a7d-b7c2-a717db71704f",
   "metadata": {},
   "source": [
    "- Note that cross-validation had been performed on backend process rather than to exploit notebook script"
   ]
  },
  {
   "cell_type": "code",
   "execution_count": 13,
   "id": "76e0ed84-6200-46a6-b307-c3fa2202a791",
   "metadata": {},
   "outputs": [],
   "source": [
    "label = 'class'\n",
    "features_num = ['purchase_value', 'age', 'latency', 'num_transaction_per_device']\n",
    "features_cat = ['source', 'browser', 'sex', 'country']"
   ]
  },
  {
   "cell_type": "code",
   "execution_count": 14,
   "id": "6c7232b4-e3ae-4c29-b7b2-159be7555a77",
   "metadata": {},
   "outputs": [
    {
     "name": "stdout",
     "output_type": "stream",
     "text": [
      "(120000, 8)\n"
     ]
    }
   ],
   "source": [
    "preprocessor = ColumnTransformer(\n",
    "    transformers=[\n",
    "        ('num', StandardScaler(), features_num),\n",
    "        ('cat', OrdinalEncoder(), features_cat)\n",
    "    ])\n",
    "\n",
    "X = df_train.drop(columns=['user_id', 'signup_time', 'purchase_time', 'device_id', 'ip_address', 'class'])\n",
    "y = df_train['class']\n",
    "\n",
    "X_transformed = preprocessor.fit_transform(X)\n",
    "print(X_transformed.shape)"
   ]
  },
  {
   "cell_type": "code",
   "execution_count": 15,
   "id": "b5cbe08a-69fe-4acf-8147-7f80968b8586",
   "metadata": {},
   "outputs": [],
   "source": [
    "cv = StratifiedKFold(n_splits=5)\n",
    "\n",
    "param_grids = {\n",
    "    'RandomForest': {\n",
    "        'classifier__n_estimators': [50, 100, 150, 200],\n",
    "        'classifier__max_depth': [None, 5, 10, 15, 20, 25],\n",
    "        'classifier__class_weight': [None, 'balanced'],\n",
    "        'classifier__min_samples_split': [2, 5, 10],\n",
    "        'classifier__min_samples_leaf': [1, 2, 4]\n",
    "    },\n",
    "    'SVM': {\n",
    "        'classifier__C': [0.001, 0.01, 0.1, 1, 10, 100],\n",
    "        'classifier__kernel': ['linear', 'rbf', 'sigmoid', 'poly'],\n",
    "        'classifier__class_weight': [None, 'balanced'],\n",
    "        'classifier__degree': [2, 3, 4]  # Only relevant for 'poly' kernel\n",
    "    },\n",
    "    'HistGradientBoosting': {\n",
    "        'classifier__learning_rate': [0.001, 0.01, 0.1, 1],\n",
    "        'classifier__max_iter': [50, 100, 150],\n",
    "        'classifier__max_depth': [None, 5, 10, 15, 20],\n",
    "        'classifier__min_samples_leaf': [1, 2, 4]\n",
    "    }\n",
    "}\n",
    "\n",
    "\n",
    "classifiers = {\n",
    "    'RandomForest': RandomForestClassifier(),\n",
    "    'SVM': SVC(probability=True),\n",
    "    'HistGradientBoosting': HistGradientBoostingClassifier()\n",
    "}"
   ]
  },
  {
   "cell_type": "code",
   "execution_count": null,
   "id": "0ff2df93-dad0-4d41-a42b-8c2fe604ba2b",
   "metadata": {},
   "outputs": [],
   "source": [
    "results = {}\n",
    "\n",
    "for name, classifier in classifiers.items():\n",
    "    pipeline = ImbPipeline([\n",
    "        ('under_sampler', RandomUnderSampler()),\n",
    "        ('classifier', classifier)\n",
    "    ])\n",
    "    grid_search = GridSearchCV(pipeline, param_grids[name], cv=cv, scoring='roc_auc', verbose=2, n_jobs=-1)\n",
    "    grid_search.fit(X_transformed, y)\n",
    "    results[name] = {\n",
    "        'best_params': grid_search.best_params_,\n",
    "        'best_score': grid_search.best_score_\n",
    "    }\n",
    "\n",
    "with open('results.pkl', 'wb') as f:\n",
    "    pickle.dump(results, f, pickle.HIGHEST_PROTOCOL)"
   ]
  },
  {
   "cell_type": "markdown",
   "id": "c8228b92-eef6-433c-a20a-d25b7cbd34d4",
   "metadata": {},
   "source": [
    "- Examining the results, all 3 models performed similarly\n",
    "- Thus, choose `HistGradientBoosting` classifier as our final model, considering computational efficiency"
   ]
  },
  {
   "cell_type": "code",
   "execution_count": 16,
   "id": "ad30d134-f06a-416c-b04f-a4f92b3925fd",
   "metadata": {},
   "outputs": [],
   "source": [
    "with open('results.pkl', 'rb') as f:\n",
    "    results = pickle.load(f)"
   ]
  },
  {
   "cell_type": "code",
   "execution_count": 17,
   "id": "f28b0ae4-1a48-417a-ac9e-a64611d406d4",
   "metadata": {},
   "outputs": [
    {
     "data": {
      "text/plain": [
       "{'RandomForest': {'best_params': {'classifier__class_weight': None,\n",
       "   'classifier__max_depth': 25,\n",
       "   'classifier__min_samples_leaf': 2,\n",
       "   'classifier__min_samples_split': 10,\n",
       "   'classifier__n_estimators': 200},\n",
       "  'best_score': 0.8309444031859667},\n",
       " 'SVM': {'best_params': {'classifier__C': 0.01,\n",
       "   'classifier__class_weight': 'balanced',\n",
       "   'classifier__degree': 2,\n",
       "   'classifier__kernel': 'linear'},\n",
       "  'best_score': 0.8291919434796207},\n",
       " 'HistGradientBoosting': {'best_params': {'classifier__learning_rate': 0.1,\n",
       "   'classifier__max_depth': None,\n",
       "   'classifier__max_iter': 50,\n",
       "   'classifier__min_samples_leaf': 4},\n",
       "  'best_score': 0.8311551183850939}}"
      ]
     },
     "execution_count": 17,
     "metadata": {},
     "output_type": "execute_result"
    }
   ],
   "source": [
    "results"
   ]
  },
  {
   "cell_type": "code",
   "execution_count": 18,
   "id": "6be76b1d-d07b-429d-bf2e-0ada3e0aad93",
   "metadata": {},
   "outputs": [],
   "source": [
    "final_model = HistGradientBoostingClassifier(learning_rate=0.1,\n",
    "                                             max_depth=None,\n",
    "                                             max_iter=50,\n",
    "                                             min_samples_leaf=4)"
   ]
  },
  {
   "cell_type": "code",
   "execution_count": 19,
   "id": "83f169b8-da62-4e69-abaa-4910eb57298b",
   "metadata": {},
   "outputs": [],
   "source": [
    "indices = np.arange(X_transformed.shape[0])\n",
    "indices_train, indices_val = train_test_split(\n",
    "    indices, test_size=0.2, random_state=42\n",
    ")"
   ]
  },
  {
   "cell_type": "code",
   "execution_count": 20,
   "id": "99c76f2b-7ac6-406d-9d51-ce7f5fb3f8e0",
   "metadata": {},
   "outputs": [],
   "source": [
    "X_train = X_transformed[indices_train]\n",
    "X_val = X_transformed[indices_val]\n",
    "y_train = y[indices_train]\n",
    "y_val = y[indices_val]"
   ]
  },
  {
   "cell_type": "code",
   "execution_count": 21,
   "id": "f175f3c7-06f5-4c40-a190-ef2f86cd98fc",
   "metadata": {},
   "outputs": [],
   "source": [
    "clf = final_model.fit(X_train, y_train)"
   ]
  },
  {
   "cell_type": "code",
   "execution_count": 22,
   "id": "37bd7bee-0086-4fb7-8d20-543367824cd4",
   "metadata": {},
   "outputs": [
    {
     "name": "stdout",
     "output_type": "stream",
     "text": [
      "validation scores\n",
      "             Pred:Normal  Pred:Fraud\n",
      "True:Normal        21757          11\n",
      "True:Fraud          1049        1183\n"
     ]
    }
   ],
   "source": [
    "print(\"validation scores\")\n",
    "y_val_pred = clf.predict(X_val)\n",
    "cm = pd.DataFrame(\n",
    "    confusion_matrix(y_val, y_val_pred),\n",
    "    index=['True:Normal', 'True:Fraud'],\n",
    "    columns=['Pred:Normal', 'Pred:Fraud']\n",
    ")\n",
    "print(cm)"
   ]
  },
  {
   "cell_type": "code",
   "execution_count": 23,
   "id": "a63e5ee6-48ae-4dff-b7f2-cd1b5fb75251",
   "metadata": {},
   "outputs": [
    {
     "name": "stdout",
     "output_type": "stream",
     "text": [
      "Fraud detection worth: USD 42830\n",
      "Missing worth:         USD 80\n"
     ]
    }
   ],
   "source": [
    "valid_worth = df_train.iloc[indices_val][(y_val == 1) & (y_val_pred == 1)]['purchase_value'].sum()\n",
    "print(\"Fraud detection worth: USD {}\".format(valid_worth))\n",
    "print(\"Missing worth:         USD {}\".format(80))"
   ]
  },
  {
   "cell_type": "markdown",
   "id": "f27a4a1e-4b60-4706-a2d1-5cef95a45401",
   "metadata": {},
   "source": [
    "- Analyzing the results for validation dataset:\n",
    "    - 1,183 fraud cases had been detected among 2,232 cases (worth USD 42,830)\n",
    "    - 11 missing cases had been occred for normal transactions (worth USD 88)\n",
    "- Aggregating those, proposed machine-learning method **worth USD 42,742**"
   ]
  },
  {
   "cell_type": "markdown",
   "id": "0f3794f4-6e9d-4679-9fc6-9a10fb586cec",
   "metadata": {},
   "source": [
    "## 4. Feature importance analysis via SHAP(SHapley Additive exPlanations)"
   ]
  },
  {
   "cell_type": "markdown",
   "id": "4c05a92a-1f81-4e4e-abc4-aee4e57aa758",
   "metadata": {},
   "source": [
    "- Looking into the approximated shapley values assessed via TreeSHAP method, `latency` and `num_transactions_per_device` are dominantly determines fraudulent transactions"
   ]
  },
  {
   "cell_type": "code",
   "execution_count": 24,
   "id": "47cca464-7a0c-442f-952e-92ab0750f4d1",
   "metadata": {},
   "outputs": [],
   "source": [
    "explainer = shap.TreeExplainer(clf)"
   ]
  },
  {
   "cell_type": "code",
   "execution_count": 25,
   "id": "dcdafb64-f7a6-4dfa-899c-588b661261cb",
   "metadata": {},
   "outputs": [],
   "source": [
    "shap_values = explainer.shap_values(X_train)"
   ]
  },
  {
   "cell_type": "code",
   "execution_count": 28,
   "id": "3f940780-d8b5-4a35-85dd-f78f75f02620",
   "metadata": {},
   "outputs": [
    {
     "data": {
      "image/png": "[encoded data removed]",
      "text/plain": [
       "<Figure size 800x470 with 1 Axes>"
      ]
     },
     "metadata": {},
     "output_type": "display_data"
    }
   ],
   "source": [
    "shap.summary_plot(shap_values, X_train, plot_type='bar',\n",
    "                  feature_names = features_num + features_cat)"
   ]
  },
  {
   "cell_type": "markdown",
   "id": "97917329-6806-4d73-ba77-284e13465c75",
   "metadata": {},
   "source": [
    "## 5. Test data assessment"
   ]
  },
  {
   "cell_type": "code",
   "execution_count": 29,
   "id": "4e9f4408-1e41-4ec0-b1bb-a828744f6186",
   "metadata": {},
   "outputs": [
    {
     "name": "stdout",
     "output_type": "stream",
     "text": [
      "(31112, 8)\n"
     ]
    }
   ],
   "source": [
    "X_test = df_test.drop(columns=['user_id', 'signup_time', 'purchase_time', 'device_id', 'ip_address'])\n",
    "\n",
    "X_test = preprocessor.fit_transform(X_test)\n",
    "print(X_test.shape)"
   ]
  },
  {
   "cell_type": "code",
   "execution_count": 30,
   "id": "a5ca7f5b-b28d-4a2e-914a-e4b7f7509ddf",
   "metadata": {},
   "outputs": [],
   "source": [
    "y_test_pred = clf.predict(X_test)"
   ]
  },
  {
   "cell_type": "code",
   "execution_count": 32,
   "id": "e69bb7f0-497a-40db-839c-3b1b7c34eaec",
   "metadata": {},
   "outputs": [],
   "source": [
    "df_test_raw = pd.read_csv('fraud_holdout_no_label.csv')\n",
    "df_test_raw['class'] = y_test_pred"
   ]
  },
  {
   "cell_type": "code",
   "execution_count": 34,
   "id": "e878a15e-4a75-4111-b37c-6e06ea009e96",
   "metadata": {},
   "outputs": [],
   "source": [
    "df_test_raw.to_csv(\"datascience_assessment_submission.csv\", index=False)"
   ]
  }
 ],
 "metadata": {
  "kernelspec": {
   "display_name": "Python 3 (ipykernel)",
   "language": "python",
   "name": "python3"
  },
  "language_info": {
   "codemirror_mode": {
    "name": "ipython",
    "version": 3
   },
   "file_extension": ".py",
   "mimetype": "text/x-python",
   "name": "python",
   "nbconvert_exporter": "python",
   "pygments_lexer": "ipython3",
   "version": "3.8.10"
  }
 },
 "nbformat": 4,
 "nbformat_minor": 5
}
